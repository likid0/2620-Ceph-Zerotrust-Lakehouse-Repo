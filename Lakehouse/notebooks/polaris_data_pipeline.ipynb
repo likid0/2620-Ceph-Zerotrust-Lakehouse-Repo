{
  "nbformat": 4,
  "nbformat_minor": 5,
  "metadata": {
    "kernelspec": {
      "display_name": "Python 3 (Spark)",
      "language": "python",
      "name": "python3"
    },
    "language_info": {
      "name": "python",
      "version": "3.10"
    }
  },
  "cells": [
    {
      "cell_type": "markdown",
      "metadata": {},
      "source": [
        "# FreshGoods Polaris Data Pipeline Demo 🚀\n",
        "\n",
        "**A retail‑analytics story in four short scenes**\n",
        "\n",
        "Every night, each FreshGoods store uploads a CSV “drop” of that day’s *product movement* to Ceph RGW.  Our mission is to turn those raw files into business‑ready insight by 9 a.m. —*without ever revealing customer emails (PII) to unauthorized users.*\n",
        "\n",
        "We’ll walk that journey in this notebook using three personas:\n",
        "- **Engineer** ingests raw CSV into an Iceberg RAW table (`products_raw`).\n",
        "- **Compliance** reads RAW, hashes `email`, computes `total = price * quantity`, writes a clean GOLD table (`products_gold`).\n",
        "- **Analyst** inspects the GOLD table, confirming the pipeline’s output.\n"
      ]
    },
    {
      "cell_type": "markdown",
      "metadata": {},
      "source": [
        "## Table of Contents\n",
        "1. [Load OAuth2 Tokens](#load-tokens)\n",
        "2. [Spark Sessions Setup](#sessions-setup)\n",
        "3. [Engineer: Ingest Raw Data](#engineer-ingest)\n",
        "4. [Engineer: Verify RAW Table](#engineer-verify-raw)\n",
        "5. [Compliance: Curate & Protect GOLD](#compliance-curate)\n",
        "5.1 [Compliance: Verify GOLD Table](#compliance-verify-gold)\n",
        "6. [🔐 Validation: Enforce Least Privilege](#validation)\n",
        "7. [Analyst: Verify GOLD Table](#analyst-verify)\n"
      ]
    },
    {
      "cell_type": "markdown",
      "metadata": {},
      "source": [
        "<a id=\"load-tokens\"></a>\n",
        "## 1️⃣ Load OAuth2 Tokens\n",
        "\n",
        "Read the JSON of tokens that Terraform minted for our three personas, so Spark can delegate fine‑grained credentials per table."
      ]
    },
    {
      "cell_type": "code",
      "execution_count": null,
      "metadata": {},
      "outputs": [],
      "source": [
        "import json, pathlib, pprint\n",
        "\n",
        "TOKENS = json.loads(pathlib.Path('/home/jovyan/work/tokens.json').read_text())\n",
        "ENG_TOKEN     = TOKENS['engineer']\n",
        "COMP_TOKEN    = TOKENS['compliance']\n",
        "ANALYST_TOKEN = TOKENS['analyst']\n",
        "\n",
        "print('Tokens loaded for personas:')\n",
        "pprint.pprint(TOKENS, width=40)"
      ]
    },
    {
      "cell_type": "markdown",
      "metadata": {},
      "source": [
        "<a id=\"sessions-setup\"></a>\n",
        "## 2️⃣ Spark Sessions Setup\n",
        "\n",
        "Create a SparkSession for **Engineer** using their token. Then **clone** it for **Compliance** and **Analyst**, swapping in each persona’s token to enforce table‑level RBAC under the hood."
      ]
    },
    {
      "cell_type": "code",
      "execution_count": null,
      "metadata": {},
      "outputs": [],
      "source": [
        "from pyspark.sql import SparkSession\n",
        "\n",
        "# Base session (Engineer)\n",
        "engineer = (\n",
        "    SparkSession.builder\n",
        "      .appName('polaris-engineer')\n",
        "      .config('spark.jars.packages', \\\n",
        "          'org.apache.iceberg:iceberg-spark-runtime-3.5_2.12:1.7.1,org.apache.hadoop:hadoop-aws:3.4.0')\n",
        "      .config('spark.sql.extensions', 'org.apache.iceberg.spark.extensions.IcebergSparkSessionExtensions')\n",
        "      .config('spark.sql.catalog.polaris', 'org.apache.iceberg.spark.SparkCatalog')\n",
        "      .config('spark.sql.catalog.polaris.type', 'rest')\n",
        "      .config('spark.sql.catalog.polaris.uri', 'http://polaris:8181/api/catalog')\n",
        "      .config('spark.sql.catalog.polaris.warehouse', 'prod')\n",
        "      .config('spark.sql.catalog.polaris.header.X-Iceberg-Access-Delegation', 'vended-credentials')\n",
        "      .config('spark.sql.catalog.polaris.token', ENG_TOKEN)\n",
        "      .config('spark.sql.defaultCatalog', 'polaris')\n",
        "      .getOrCreate()\n",
        ")\n",
        "print('✅ Session: Engineer →', ENG_TOKEN[:8] + '...')\n",
        "\n",
        "# Clone for Compliance\n",
        "compliance = engineer.newSession()\n",
        "compliance.conf.set('spark.sql.catalog.polaris.token', COMP_TOKEN)\n",
        "print('✅ Session: Compliance →', COMP_TOKEN[:8] + '...')\n",
        "\n",
        "# Clone for Analyst\n",
        "analyst = engineer.newSession()\n",
        "analyst.conf.set('spark.sql.catalog.polaris.token', ANALYST_TOKEN)\n",
        "print('✅ Session: Analyst →', ANALYST_TOKEN[:8] + '...')"
      ]
    },
    {
      "cell_type": "markdown",
      "metadata": {},
      "source": [
        "<a id=\"engineer-ingest\"></a>\n",
        "## 3️⃣ Engineer: Ingest Raw Data\n",
        "\n",
        "The **Engineer** lands last night’s `products_raw_200.csv` drop into our Iceberg RAW table `products_raw`. No filtering or masking yet—this is a faithful mirror of the source CSV."
      ]
    },
    {
      "cell_type": "code",
      "execution_count": null,
      "metadata": {},
      "outputs": [],
      "source": [
        "raw_df = (\n",
        "    engineer.read\n",
        "      .option('header', True)\n",
        "      .option('inferSchema', True)\n",
        "      .csv('/home/jovyan/work/products_raw_200.csv')\n",
        ")\n",
        "raw_df.writeTo('polaris.prod_ns.products_raw').append()\n",
        "print('✅ Raw data appended to products_raw')"
      ]
    },
    {
      "cell_type": "markdown",
      "metadata": {},
      "source": [
        "<a id=\"engineer-verify-raw\"></a>\n",
        "### 4️⃣ Engineer: Verify RAW Table\n",
        "\n",
        "Quickly peek at the raw table to confirm ingestion. We should see the original `email` column with PII here."
      ]
    },
    {
      "cell_type": "code",
      "execution_count": null,
      "metadata": {},
      "outputs": [],
      "source": [
        "import pandas as pd\n",
        "from IPython.display import display\n",
        "\n",
        "# Preview first 5 rows of RAW\n",
        "raw_preview = engineer.sql(\n",
        "    'SELECT * FROM polaris.prod_ns.products_raw LIMIT 5'\n",
        ").toPandas()\n",
        "print('Preview of products_raw:')\n",
        "display(raw_preview)"
      ]
    },
    {
      "cell_type": "markdown",
      "metadata": {},
      "source": [
        "<a id=\"compliance-curate\"></a>\n",
        "## 5️⃣ Compliance: Curate & Protect GOLD\n",
        "\n",
        "Now the **Compliance** persona reads from `products_raw`, **hashes** the `email` column to remove PII, **computes** `total = price * quantity`, and **overwrites** the GOLD table `products_gold`. We specify Parquet by default in the catalog properties, so the data lands in compressed, columnar format."
      ]
    },
    {
      "cell_type": "code",
      "execution_count": null,
      "metadata": {},
      "outputs": [],
      "source": [
        "from pyspark.sql.functions import col, sha2, lit\n",
        "\n",
        "gold_df = (\n",
        "    compliance.read\n",
        "      .table('polaris.prod_ns.products_raw')\n",
        "      .withColumn('total',      col('price') * col('quantity'))\n",
        "      .withColumn('email_hash', sha2(col('email'), 256))\n",
        "      .select(\n",
        "         'product_id',\n",
        "         'product_name',\n",
        "         'category',\n",
        "         'total',\n",
        "         'email_hash',\n",
        "         'timestamp'\n",
        "      )\n",
        ")\n",
        "\n",
        "# overwrite(lit(True)) replaces all rows in GOLD\n",
        "gold_df.writeTo('polaris.prod_ns.products_gold')  \\\n",
        "      .overwrite(lit(True))\n",
        "\n",
        "print('✅ Curated & protected data into products_gold')"
      ]
    },
    {
      "cell_type": "markdown",
      "metadata": {},
      "source": [
        "<a id=\"compliance-verify-gold\"></a>\n",
        "### 5.1️⃣ Compliance: Verify GOLD Table\n",
        "\n",
        "Confirm that `products_gold` now contains the curated records (no raw `email`, shows hashed emails and `total`)."
      ]
    },
    {
      "cell_type": "code",
      "execution_count": null,
      "metadata": {},
      "outputs": [],
      "source": [
        "import pandas as pd\n",
        "from IPython.display import display\n",
        "\n",
        "gold_compliance_preview = compliance.sql(\n",
        "    'SELECT * FROM polaris.prod_ns.products_gold LIMIT 5'\n",
        ").toPandas()\n",
        "print('Compliance sees products_gold:')\n",
        "display(gold_compliance_preview)"
      ]
    },
    {
      "cell_type": "markdown",
      "metadata": {},
      "source": [
        "<a id=\"validation\"></a>\n",
        "## 6️⃣ 🔐 Validation: Enforce Least Privilege\n",
        "\n",
        "Demonstrate that each persona is restricted to only their allowed operations."
      ]
    },
    {
      "cell_type": "markdown",
      "metadata": {},
      "source": [
        "**a) Engineer cannot write to GOLD**\n\n",
        "The Engineer only has `TABLE_RW` on the RAW table; any attempt to modify GOLD should be denied."
      ]
    },
    {
      "cell_type": "code",
      "execution_count": null,
      "metadata": {},
      "outputs": [],
      "source": [
        "try:\n",
        "    engineer.sql(\"INSERT INTO polaris.prod_ns.products_gold VALUES ('X','Test','t',0.00,'h',CURRENT_TIMESTAMP)\")\n",
        "except Exception as e:\n",
        "    from IPython.display import HTML, display\n",
        "    msg = str(e).split('\\n')[0]\n",
        "    display(HTML(f\"<div style='color:red;font-weight:bold'>🔒 Engineer write to GOLD denied: {msg}</div>\"))"
      ]
    },
    {
      "cell_type": "markdown",
      "metadata": {},
      "source": [
        "**b) Compliance cannot modify RAW**\n\n",
        "Compliance can read from RAW but should not have write/delete privileges there."
      ]
    },
    {
      "cell_type": "code",
      "execution_count": null,
      "metadata": {},
      "outputs": [],
      "source": [
        "try:\n",
        "    compliance.sql(\"DELETE FROM polaris.prod_ns.products_raw WHERE quantity < 0\")\n",
        "except Exception as e:\n",
        "    from IPython.display import HTML, display\n",
        "    msg = str(e).split('\\n')[0]\n",
        "    display(HTML(f\"<div style='color:red;font-weight:bold'>🔒 Compliance delete on RAW denied: {msg}</div>\"))"
      ]
    },
    {
      "cell_type": "markdown",
      "metadata": {},
      "source": [
        "**c) Analyst cannot see raw PII**\n\n",
        "The Analyst only has read access on GOLD; any direct RAW `email` query should be forbidden."
      ]
    },
    {
      "cell_type": "code",
      "execution_count": null,
      "metadata": {},
      "outputs": [],
      "source": [
        "try:\n",
        "    analyst.sql('SELECT email FROM polaris.prod_ns.products_raw LIMIT 1').show()\n",
        "except Exception as e:\n",
        "    from IPython.display import HTML, display\n",
        "    msg = str(e).split('\\n')[0]\n",
        "    display(HTML(f\"<div style='color:red;font-weight:bold'>🔒 Analyst read RAW PII denied: {msg}</div>\"))\n",
        "\n",
        "# Why? The Analyst has no privileges on products_raw, so Polaris denies RAW-PII access."
      ]
    },
    {
      "cell_type": "markdown",
      "metadata": {},
      "source": [
        "<a id=\"analyst-verify\"></a>\n",
        "## 7️⃣ Analyst: Verify GOLD Table\n",
        "\n",
        "Now the **Analyst** lists and previews the curated GOLD table, safe in the knowledge that PII has been masked and only the intended columns are exposed."
      ]
    },
    {
      "cell_type": "code",
      "execution_count": null,
      "metadata": {},
      "outputs": [],
      "source": [
        "import pandas as pd\n",
        "from IPython.display import display\n",
        "\n",
        "# List available tables in prod_ns\n",
        "tbls = analyst.sql('SHOW TABLES IN polaris.prod_ns').toPandas()\n",
        "print('Tables in prod_ns:')\n",
        "display(tbls)\n",
        "\n",
        "# Preview first 5 rows of GOLD\n",
        "gold_preview = analyst.sql(\n",
        "    'SELECT * FROM polaris.prod_ns.products_gold LIMIT 5'\n",
        ").toPandas()\n",
        "print('Preview of products_gold:')\n",
        "display(gold_preview)"
      ]
    }
  ]
}

